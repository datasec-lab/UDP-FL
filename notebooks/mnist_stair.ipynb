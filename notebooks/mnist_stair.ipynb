{
 "cells": [
  {
   "cell_type": "code",
   "execution_count": 1,
   "metadata": {},
   "outputs": [
    {
     "name": "stdout",
     "output_type": "stream",
     "text": [
      "CPU times: user 2.24 s, sys: 848 ms, total: 3.09 s\n",
      "Wall time: 3.18 s\n"
     ]
    }
   ],
   "source": [
    "%%time\n",
    "%reload_ext autoreload\n",
    "%autoreload\n",
    "%autoreload 2\n",
    "%config Completer.use_jedi = False\n",
    "\n",
    "import os\n",
    "import json\n",
    "import warnings\n",
    "import pprint\n",
    "import sys\n",
    "import numpy as np\n",
    "import pandas as pd\n",
    "import torch\n",
    "\n",
    "MAIN_PATH = os.getcwd().split(\"notebooks\")[0]\n",
    "sys.path.insert(0, MAIN_PATH)"
   ]
  },
  {
   "cell_type": "code",
   "execution_count": 2,
   "metadata": {},
   "outputs": [],
   "source": [
    "# Run a Federated Learning experiment\n",
    "from data_loader.mnist import MnistDatasetManager\n",
    "from models.mnist_model import MnistFullConnectModel, SimpleCNN\n",
    "from server.base_server import BaseServer\n",
    "from client.base_client import BaseClient\n",
    "from experiments.base_experiment import BaseExperiment\n",
    "from gradients.noise import GaussianNoiseGenerator, NoNoiseGenerator,StaircaseNoiseGenerator\n",
    "from metrics.classification import multiclass_accuracy"
   ]
  },
  {
   "cell_type": "code",
   "execution_count": 3,
   "metadata": {},
   "outputs": [],
   "source": [
    "class DemoMnistExperiment(BaseExperiment):\n",
    "    def __init__(self, client_num: int = 2, lr: float=0.01):\n",
    "        self.lr = lr\n",
    "        self._init_server_clients(client_num,self.lr)\n",
    "        self._init_data(client_num)\n",
    "\n",
    "    def _init_server_clients(self, client_num, lr):\n",
    "        model = SimpleCNN\n",
    "        self.clients = [BaseClient(model(lr=lr), \n",
    "                                   client_id=idx, \n",
    "                                   noise_generator=StaircaseNoiseGenerator())\n",
    "                        for idx in range(client_num)]\n",
    "        self.server = BaseServer(model(lr=lr))\n",
    "\n",
    "    def _init_data(self, client_num):\n",
    "        data_manager = MnistDatasetManager(n_parties=client_num)\n",
    "        self.client_train_datas = data_manager.train_loaders\n",
    "        self.valid_datas = data_manager.validation_loader\n",
    "        self.test_data = data_manager.test_loader\n",
    "\n",
    "    def evaluate_model(self, data):\n",
    "        total_correct = 0\n",
    "        total_sample_num = 0\n",
    "        with torch.no_grad():\n",
    "            for _, (inputs, target) in enumerate(data):\n",
    "                predict_labels = self.server.predict(inputs)\n",
    "                correct, sample_num = multiclass_accuracy(y_pred=predict_labels, \n",
    "                                                          y_true=target)\n",
    "                total_correct += correct\n",
    "                total_sample_num += sample_num\n",
    "                \n",
    "        return total_correct / total_sample_num\n",
    "        \n",
    "    def get_validation_result(self):\n",
    "        return self.evaluate_model(self.valid_datas)\n",
    "    \n",
    "    def get_test_result(self):\n",
    "        return self.evaluate_model(self.test_data)\n",
    "    \n",
    "    def aggeragate(self):\n",
    "        self.server.aggeragate_model(self.clients)\n",
    "    \n",
    "    def run(self, epochs: int):\n",
    "        for client in self.clients:\n",
    "            client.set_training_mode(for_gradient=False)\n",
    "\n",
    "        for epoch in range(epochs):\n",
    "            print(self.get_validation_result())\n",
    "            for client, client_train_data in self.shuffled_data(to_shuffle=False):\n",
    "                client.train(client_train_data, client_epochs=2)\n",
    "\n",
    "            self.aggeragate()\n",
    "            if epoch and not (epoch % 1):\n",
    "                print(self.get_validation_result())\n",
    "\n",
    "            self.distribute_model()\n"
   ]
  },
  {
   "cell_type": "code",
   "execution_count": 4,
   "metadata": {},
   "outputs": [],
   "source": [
    "EXPERIMENT = DemoMnistExperiment(client_num=10, lr = 0.001)"
   ]
  },
  {
   "cell_type": "code",
   "execution_count": 5,
   "metadata": {},
   "outputs": [
    {
     "name": "stdout",
     "output_type": "stream",
     "text": [
      "0.11191666666666666\n",
      "0.21358333333333332\n",
      "0.94325\n",
      "0.94325\n",
      "0.9695\n",
      "0.9695\n",
      "0.9761666666666666\n",
      "0.9761666666666666\n",
      "0.9795\n",
      "0.9795\n",
      "0.98325\n",
      "0.98325\n",
      "0.9845\n",
      "0.9845\n",
      "0.9864166666666667\n",
      "0.9864166666666667\n",
      "0.98725\n",
      "0.98725\n",
      "0.987\n",
      "0.987\n",
      "0.9885833333333334\n",
      "0.9885833333333334\n",
      "0.98875\n",
      "0.98875\n",
      "0.9893333333333333\n",
      "0.9893333333333333\n",
      "0.9899166666666667\n",
      "0.9899166666666667\n",
      "0.9901666666666666\n",
      "0.9901666666666666\n",
      "0.9900833333333333\n",
      "0.9900833333333333\n",
      "0.9903333333333333\n",
      "0.9903333333333333\n",
      "0.9906666666666667\n",
      "0.9906666666666667\n",
      "0.991\n",
      "0.991\n",
      "0.9906666666666667\n",
      "0.9906666666666667\n",
      "0.9909166666666667\n",
      "0.9909166666666667\n",
      "0.9915\n",
      "0.9915\n",
      "0.9915\n",
      "0.9915\n",
      "0.9915833333333334\n",
      "0.9915833333333334\n",
      "0.9918333333333333\n",
      "0.9918333333333333\n",
      "0.9920833333333333\n",
      "0.9920833333333333\n",
      "0.9923333333333333\n",
      "0.9923333333333333\n",
      "0.99225\n",
      "0.99225\n",
      "0.9921666666666666\n",
      "0.9921666666666666\n",
      "0.99175\n",
      "0.99175\n",
      "0.9924166666666666\n",
      "0.9924166666666666\n",
      "0.9921666666666666\n",
      "0.9921666666666666\n",
      "0.992\n",
      "0.992\n",
      "0.9923333333333333\n",
      "0.9923333333333333\n",
      "0.99225\n",
      "0.99225\n",
      "0.9923333333333333\n",
      "0.9923333333333333\n",
      "0.9916666666666667\n",
      "0.9916666666666667\n",
      "0.992\n",
      "0.992\n",
      "0.9929166666666667\n",
      "0.9929166666666667\n",
      "0.9926666666666667\n",
      "0.9926666666666667\n",
      "0.9925\n",
      "0.9925\n",
      "0.9921666666666666\n",
      "0.9921666666666666\n",
      "0.99225\n",
      "0.99225\n",
      "0.99225\n",
      "0.99225\n",
      "0.9923333333333333\n",
      "0.9923333333333333\n",
      "0.9926666666666667\n",
      "0.9926666666666667\n",
      "0.99225\n",
      "0.99225\n",
      "0.9919166666666667\n",
      "0.9919166666666667\n",
      "0.9921666666666666\n",
      "0.9921666666666666\n",
      "0.9921666666666666\n"
     ]
    }
   ],
   "source": [
    "EXPERIMENT.run(50)"
   ]
  },
  {
   "cell_type": "code",
   "execution_count": 6,
   "metadata": {},
   "outputs": [
    {
     "data": {
      "text/plain": [
       "<bound method BaseClient.train_for_model of <client.base_client.BaseClient object at 0x7fa633d4eb50>>"
      ]
     },
     "execution_count": 6,
     "metadata": {},
     "output_type": "execute_result"
    }
   ],
   "source": [
    "EXPERIMENT.clients[0].train"
   ]
  },
  {
   "cell_type": "code",
   "execution_count": null,
   "metadata": {},
   "outputs": [],
   "source": []
  }
 ],
 "metadata": {
  "kernelspec": {
   "display_name": "Python 3",
   "language": "python",
   "name": "python3"
  },
  "language_info": {
   "codemirror_mode": {
    "name": "ipython",
    "version": 3
   },
   "file_extension": ".py",
   "mimetype": "text/x-python",
   "name": "python",
   "nbconvert_exporter": "python",
   "pygments_lexer": "ipython3",
   "version": "3.8.7"
  },
  "orig_nbformat": 4,
  "vscode": {
   "interpreter": {
    "hash": "aee8b7b246df8f9039afb4144a1f6fd8d2ca17a180786b69acc140d282b71a49"
   }
  }
 },
 "nbformat": 4,
 "nbformat_minor": 2
}
